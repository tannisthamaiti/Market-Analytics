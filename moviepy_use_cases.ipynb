{
  "nbformat": 4,
  "nbformat_minor": 0,
  "metadata": {
    "colab": {
      "provenance": [],
      "authorship_tag": "ABX9TyPG2C6Y/s+9yXrSi68q4pP4",
      "include_colab_link": true
    },
    "kernelspec": {
      "name": "python3",
      "display_name": "Python 3"
    },
    "language_info": {
      "name": "python"
    }
  },
  "cells": [
    {
      "cell_type": "markdown",
      "metadata": {
        "id": "view-in-github",
        "colab_type": "text"
      },
      "source": [
        "<a href=\"https://colab.research.google.com/github/tannisthamaiti/Market-Analytics/blob/main/moviepy_use_cases.ipynb\" target=\"_parent\"><img src=\"https://colab.research.google.com/assets/colab-badge.svg\" alt=\"Open In Colab\"/></a>"
      ]
    },
    {
      "cell_type": "markdown",
      "source": [
        "## Step 1: Install moviepy"
      ],
      "metadata": {
        "id": "RB3f3OLtVp2E"
      }
    },
    {
      "cell_type": "code",
      "execution_count": 9,
      "metadata": {
        "id": "5JFE_sumVNpV",
        "colab": {
          "base_uri": "https://localhost:8080/"
        },
        "outputId": "de9c4cb5-7515-4bf9-e261-8a94b6e61948"
      },
      "outputs": [
        {
          "output_type": "stream",
          "name": "stdout",
          "text": [
            "Requirement already satisfied: moviepy in /usr/local/lib/python3.11/dist-packages (1.0.3)\n",
            "Requirement already satisfied: decorator<5.0,>=4.0.2 in /usr/local/lib/python3.11/dist-packages (from moviepy) (4.4.2)\n",
            "Requirement already satisfied: imageio<3.0,>=2.5 in /usr/local/lib/python3.11/dist-packages (from moviepy) (2.37.0)\n",
            "Requirement already satisfied: imageio_ffmpeg>=0.2.0 in /usr/local/lib/python3.11/dist-packages (from moviepy) (0.6.0)\n",
            "Requirement already satisfied: tqdm<5.0,>=4.11.2 in /usr/local/lib/python3.11/dist-packages (from moviepy) (4.67.1)\n",
            "Requirement already satisfied: numpy>=1.17.3 in /usr/local/lib/python3.11/dist-packages (from moviepy) (2.0.2)\n",
            "Requirement already satisfied: requests<3.0,>=2.8.1 in /usr/local/lib/python3.11/dist-packages (from moviepy) (2.32.3)\n",
            "Requirement already satisfied: proglog<=1.0.0 in /usr/local/lib/python3.11/dist-packages (from moviepy) (0.1.10)\n",
            "Requirement already satisfied: pillow>=8.3.2 in /usr/local/lib/python3.11/dist-packages (from imageio<3.0,>=2.5->moviepy) (11.1.0)\n",
            "Requirement already satisfied: charset-normalizer<4,>=2 in /usr/local/lib/python3.11/dist-packages (from requests<3.0,>=2.8.1->moviepy) (3.4.1)\n",
            "Requirement already satisfied: idna<4,>=2.5 in /usr/local/lib/python3.11/dist-packages (from requests<3.0,>=2.8.1->moviepy) (3.10)\n",
            "Requirement already satisfied: urllib3<3,>=1.21.1 in /usr/local/lib/python3.11/dist-packages (from requests<3.0,>=2.8.1->moviepy) (2.3.0)\n",
            "Requirement already satisfied: certifi>=2017.4.17 in /usr/local/lib/python3.11/dist-packages (from requests<3.0,>=2.8.1->moviepy) (2025.1.31)\n"
          ]
        }
      ],
      "source": [
        "!pip install moviepy"
      ]
    },
    {
      "cell_type": "markdown",
      "source": [
        "##Step 2: Python Code to Trim the Video\n",
        "\n",
        "Here’s a simple script to trim a video. You will need to specify the path to the source video file and define the start and end times for the clip you want to extract."
      ],
      "metadata": {
        "id": "r2-KL2KfVtCo"
      }
    },
    {
      "cell_type": "code",
      "source": [
        "from moviepy.editor import VideoFileClip\n",
        "\n",
        "def trim_video(video_path, start_time, end_time, output_path):\n",
        "    # Load the video file\n",
        "    video = VideoFileClip(video_path)\n",
        "\n",
        "    # Trim the video\n",
        "    trimmed_video = video.subclip(start_time, end_time)\n",
        "\n",
        "    # Write the trimmed video to a new file\n",
        "    trimmed_video.write_videofile(output_path, codec='libx264', audio_codec='aac')\n",
        "\n",
        "# Example usage\n",
        "video_path = '/content/LiveAI1.mp4'\n",
        "start_time = 80  # Start at 10 seconds\n",
        "end_time = 1271     # End at 20 seconds\n",
        "output_path = 'trimmed_video2.mp4'\n",
        "\n",
        "trim_video(video_path, start_time, end_time, output_path)\n"
      ],
      "metadata": {
        "id": "pkaK233sV-aT",
        "outputId": "c1d3e296-bc8d-4002-af81-f1b05d7b6aac",
        "colab": {
          "base_uri": "https://localhost:8080/"
        }
      },
      "execution_count": 12,
      "outputs": [
        {
          "output_type": "stream",
          "name": "stderr",
          "text": [
            "t:   4%|▎         | 2518/67632 [51:38<1:18:52, 13.76it/s, now=None]"
          ]
        },
        {
          "output_type": "stream",
          "name": "stdout",
          "text": [
            "Moviepy - Building video trimmed_video2.mp4.\n"
          ]
        },
        {
          "output_type": "stream",
          "name": "stderr",
          "text": []
        },
        {
          "output_type": "stream",
          "name": "stdout",
          "text": [
            "MoviePy - Writing audio in trimmed_video2TEMP_MPY_wvf_snd.mp4\n"
          ]
        },
        {
          "output_type": "stream",
          "name": "stderr",
          "text": []
        },
        {
          "output_type": "stream",
          "name": "stdout",
          "text": [
            "MoviePy - Done.\n",
            "Moviepy - Writing video trimmed_video2.mp4\n",
            "\n"
          ]
        },
        {
          "output_type": "stream",
          "name": "stderr",
          "text": []
        },
        {
          "output_type": "stream",
          "name": "stdout",
          "text": [
            "Moviepy - Done !\n",
            "Moviepy - video ready trimmed_video2.mp4\n"
          ]
        }
      ]
    },
    {
      "cell_type": "code",
      "source": [
        "from moviepy.editor import VideoFileClip, concatenate_videoclips\n",
        "\n",
        "# Load video\n",
        "video = VideoFileClip(\"/content/trimmed_video2.mp4\")\n",
        "\n",
        "# Define the parts you want to keep\n",
        "part1 = video.subclip(0, 839)        # From 0s to 60s (before the cut)\n",
        "part2 = video.subclip(931, video.duration)  # From 90s to end (after the cut)\n",
        "\n",
        "# Merge the remaining parts\n",
        "final_video = concatenate_videoclips([part1, part2])\n",
        "\n",
        "# Export\n",
        "final_video.write_videofile(\"output.mp4\", codec=\"libx264\")\n"
      ],
      "metadata": {
        "id": "OdHXC4kQ_KrL",
        "outputId": "9f59e1b9-a43a-4426-a492-e3a2de0788d9",
        "colab": {
          "base_uri": "https://localhost:8080/"
        }
      },
      "execution_count": 13,
      "outputs": [
        {
          "output_type": "stream",
          "name": "stdout",
          "text": [
            "Moviepy - Building video output.mp4.\n",
            "MoviePy - Writing audio in outputTEMP_MPY_wvf_snd.mp3\n"
          ]
        },
        {
          "output_type": "stream",
          "name": "stderr",
          "text": []
        },
        {
          "output_type": "stream",
          "name": "stdout",
          "text": [
            "MoviePy - Done.\n",
            "Moviepy - Writing video output.mp4\n",
            "\n"
          ]
        },
        {
          "output_type": "stream",
          "name": "stderr",
          "text": []
        },
        {
          "output_type": "stream",
          "name": "stdout",
          "text": [
            "Moviepy - Done !\n",
            "Moviepy - video ready output.mp4\n"
          ]
        }
      ]
    },
    {
      "cell_type": "markdown",
      "source": [
        "## Step 3 :Use the following script to merge two videos:"
      ],
      "metadata": {
        "id": "oDx1GeOwWr2x"
      }
    },
    {
      "cell_type": "code",
      "source": [
        "from moviepy.editor import VideoFileClip, concatenate_videoclips\n",
        "\n",
        "def merge_videos(video1_path, video2_path, output_path):\n",
        "    \"\"\"\n",
        "    Merges two videos together sequentially and saves the output.\n",
        "\n",
        "    Parameters:\n",
        "        video1_path (str): Path to the first video.\n",
        "        video2_path (str): Path to the second video.\n",
        "        output_path (str): Path to save the merged video.\n",
        "    \"\"\"\n",
        "    # Load the video clips\n",
        "    clip1 = VideoFileClip(video1_path)\n",
        "    clip2 = VideoFileClip(video2_path)\n",
        "\n",
        "    # Concatenate the videos\n",
        "    final_video = concatenate_videoclips([clip1, clip2])\n",
        "\n",
        "    # Save the final merged video\n",
        "    final_video.write_videofile(output_path, codec='libx264', audio_codec='aac')\n",
        "\n",
        "# Example usage\n",
        "video1 = \"video1.mp4\"  # Path to first video\n",
        "video2 = \"video2.mp4\"  # Path to second video\n",
        "output_video = \"merged_video.mp4\"  # Output file\n",
        "\n",
        "merge_videos(video1, video2, output_video)"
      ],
      "metadata": {
        "id": "-1jMtDOCWgAO"
      },
      "execution_count": null,
      "outputs": []
    }
  ]
}