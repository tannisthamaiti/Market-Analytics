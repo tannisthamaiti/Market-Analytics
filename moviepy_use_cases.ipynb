{
  "nbformat": 4,
  "nbformat_minor": 0,
  "metadata": {
    "colab": {
      "provenance": [],
      "authorship_tag": "ABX9TyNoSa3BCbLm+hRw3I369tXQ",
      "include_colab_link": true
    },
    "kernelspec": {
      "name": "python3",
      "display_name": "Python 3"
    },
    "language_info": {
      "name": "python"
    }
  },
  "cells": [
    {
      "cell_type": "markdown",
      "metadata": {
        "id": "view-in-github",
        "colab_type": "text"
      },
      "source": [
        "<a href=\"https://colab.research.google.com/github/tannisthamaiti/Market-Analytics/blob/main/moviepy_use_cases.ipynb\" target=\"_parent\"><img src=\"https://colab.research.google.com/assets/colab-badge.svg\" alt=\"Open In Colab\"/></a>"
      ]
    },
    {
      "cell_type": "markdown",
      "source": [
        "## Step 1: Install moviepy"
      ],
      "metadata": {
        "id": "RB3f3OLtVp2E"
      }
    },
    {
      "cell_type": "code",
      "execution_count": 1,
      "metadata": {
        "id": "5JFE_sumVNpV",
        "colab": {
          "base_uri": "https://localhost:8080/"
        },
        "outputId": "a07bf0c6-c475-4c2b-beac-4b1d383d7150"
      },
      "outputs": [
        {
          "output_type": "stream",
          "name": "stdout",
          "text": [
            "Requirement already satisfied: moviepy in /usr/local/lib/python3.11/dist-packages (1.0.3)\n",
            "Requirement already satisfied: decorator<5.0,>=4.0.2 in /usr/local/lib/python3.11/dist-packages (from moviepy) (4.4.2)\n",
            "Requirement already satisfied: imageio<3.0,>=2.5 in /usr/local/lib/python3.11/dist-packages (from moviepy) (2.37.0)\n",
            "Requirement already satisfied: imageio_ffmpeg>=0.2.0 in /usr/local/lib/python3.11/dist-packages (from moviepy) (0.6.0)\n",
            "Requirement already satisfied: tqdm<5.0,>=4.11.2 in /usr/local/lib/python3.11/dist-packages (from moviepy) (4.67.1)\n",
            "Requirement already satisfied: numpy>=1.17.3 in /usr/local/lib/python3.11/dist-packages (from moviepy) (2.0.2)\n",
            "Requirement already satisfied: requests<3.0,>=2.8.1 in /usr/local/lib/python3.11/dist-packages (from moviepy) (2.32.3)\n",
            "Requirement already satisfied: proglog<=1.0.0 in /usr/local/lib/python3.11/dist-packages (from moviepy) (0.1.10)\n",
            "Requirement already satisfied: pillow>=8.3.2 in /usr/local/lib/python3.11/dist-packages (from imageio<3.0,>=2.5->moviepy) (11.1.0)\n",
            "Requirement already satisfied: charset-normalizer<4,>=2 in /usr/local/lib/python3.11/dist-packages (from requests<3.0,>=2.8.1->moviepy) (3.4.1)\n",
            "Requirement already satisfied: idna<4,>=2.5 in /usr/local/lib/python3.11/dist-packages (from requests<3.0,>=2.8.1->moviepy) (3.10)\n",
            "Requirement already satisfied: urllib3<3,>=1.21.1 in /usr/local/lib/python3.11/dist-packages (from requests<3.0,>=2.8.1->moviepy) (2.3.0)\n",
            "Requirement already satisfied: certifi>=2017.4.17 in /usr/local/lib/python3.11/dist-packages (from requests<3.0,>=2.8.1->moviepy) (2025.1.31)\n"
          ]
        }
      ],
      "source": [
        "!pip install moviepy"
      ]
    },
    {
      "cell_type": "markdown",
      "source": [
        "##Step 2: Python Code to Trim the Video\n",
        "\n",
        "Here’s a simple script to trim a video. You will need to specify the path to the source video file and define the start and end times for the clip you want to extract."
      ],
      "metadata": {
        "id": "r2-KL2KfVtCo"
      }
    },
    {
      "cell_type": "code",
      "source": [
        "from moviepy.editor import VideoFileClip\n",
        "\n",
        "def trim_video(video_path, start_time, end_time, output_path):\n",
        "    # Load the video file\n",
        "    video = VideoFileClip(video_path)\n",
        "\n",
        "    # Trim the video\n",
        "    trimmed_video = video.subclip(start_time, end_time)\n",
        "\n",
        "    # Write the trimmed video to a new file\n",
        "    trimmed_video.write_videofile(output_path, codec='libx264', audio_codec='aac')\n",
        "\n",
        "# Example usage\n",
        "video_path = 'path_to_your_video.mp4'\n",
        "start_time = 10  # Start at 10 seconds\n",
        "end_time = 20    # End at 20 seconds\n",
        "output_path = 'trimmed_video.mp4'\n",
        "\n",
        "trim_video(video_path, start_time, end_time, output_path)\n"
      ],
      "metadata": {
        "id": "pkaK233sV-aT"
      },
      "execution_count": null,
      "outputs": []
    }
  ]
}